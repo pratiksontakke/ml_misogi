{
 "cells": [
  {
   "cell_type": "markdown",
   "metadata": {},
   "source": [
    "# 🏅 Pandas Assignment: Exploring the Tokyo 2021 Olympics Dataset"
   ]
  },
  {
   "cell_type": "markdown",
   "metadata": {},
   "source": [
    "## Introduction to Pandas: Your Data Science Swiss Army Knife\n",
    "\n",
    "Welcome to the world of data analysis with Python! At the heart of this world lies a powerful library called **Pandas**. \n",
    "\n",
    "### What is Pandas?\n",
    "\n",
    "Think of Pandas as a super-powered version of a spreadsheet (like Excel or Google Sheets) but inside your Python code. It's an open-source library that provides high-performance, easy-to-use data structures and data analysis tools. The name \"Pandas\" is derived from \"Panel Data,\" an econometrics term for multidimensional data.\n",
    "\n",
    "### Why Do We Use Pandas?\n",
    "\n",
    "In the real world, data is messy. It comes in various formats (like the `.xlsx` files we have for this assignment), has missing values, and is often not in a suitable structure for analysis. Pandas is used to tackle these challenges head-on. It's the standard tool for:\n",
    "\n",
    "- **Loading Data**: Reading data from various file formats (CSV, Excel, SQL databases, etc.).\n",
    "- **Cleaning Data**: Handling missing values, correcting data types, and removing duplicates.\n",
    "- **Manipulating & Transforming Data**: Merging, joining, reshaping, and pivoting datasets.\n",
    "- **Analyzing Data**: Performing aggregations, grouping, and calculating statistics.\n",
    "- **Visualizing Data**: While Pandas has basic plotting capabilities, it integrates seamlessly with libraries like Matplotlib and Seaborn for advanced visualizations.\n",
    "\n",
    "The two primary data structures in Pandas are:\n",
    "1.  **DataFrame**: A 2-dimensional labeled array with columns of potentially different types. You can think of it as a spreadsheet or a SQL table.\n",
    "2.  **Series**: A 1-dimensional labeled array capable of holding any data type. Each column of a DataFrame is a Series.\n",
    "\n",
    "In this assignment, we will use Pandas to explore the Tokyo 2021 Olympics dataset, ask meaningful questions, and find answers backed by data. Let's get started!"
   ]
  },
  {
   "cell_type": "markdown",
   "metadata": {},
   "source": [
    "### Step 1: Setting up the Environment and Loading the Data\n",
    "\n",
    "First, we need to import the Pandas library. The standard convention is to import it with the alias `pd`. This makes our code shorter and more readable."
   ]
  },
  {
   "cell_type": "code",
   "execution_count": 9,
   "metadata": {},
   "outputs": [],
   "source": [
    "# Why 'import pandas as pd'?\n",
    "# 'import pandas' loads the library.\n",
    "# 'as pd' is an alias or a nickname. It's a universally followed convention in the data science community.\n",
    "# Instead of typing 'pandas.some_function()', we can simply type 'pd.some_function()'.\n",
    "import pandas as pd"
   ]
  },
  {
   "cell_type": "markdown",
   "metadata": {},
   "source": [
    "Now, let's load our five Excel files into Pandas DataFrames. We'll use the `pd.read_excel()` function.\n",
    "\n",
    "#### What is `pd.read_excel()` and why use it?\n",
    "- **What it is**: A function that reads an Excel file into a Pandas DataFrame.\n",
    "- **Why we use it**: Our data is in `.xlsx` format. Pandas offers different functions for different file types (e.g., `pd.read_csv()` for `.csv` files). This function handles the complexity of the Excel file format for us.\n",
    "- **Other ways**: If our data were in CSV format, we would use `pd.read_csv()`. If it were in a SQL database, we might use `pd.read_sql()`."
   ]
  },
  {
   "cell_type": "code",
   "execution_count": 10,
   "metadata": {},
   "outputs": [
    {
     "name": "stderr",
     "output_type": "stream",
     "text": [
      "/home/pratik/.local/lib/python3.10/site-packages/openpyxl/styles/stylesheet.py:237: UserWarning: Workbook contains no default style, apply openpyxl's default\n",
      "  warn(\"Workbook contains no default style, apply openpyxl's default\")\n",
      "/home/pratik/.local/lib/python3.10/site-packages/openpyxl/styles/stylesheet.py:237: UserWarning: Workbook contains no default style, apply openpyxl's default\n",
      "  warn(\"Workbook contains no default style, apply openpyxl's default\")\n"
     ]
    }
   ],
   "source": [
    "# Define the file paths relative to the notebook's location\n",
    "# This makes the notebook portable, as long as the directory structure is maintained.\n",
    "path_athletes = '../../data/Olympics/Athletes.xlsx'\n",
    "path_coaches = '../../data/Olympics/Coaches.xlsx'\n",
    "path_gender = '../../data/Olympics/EntriesGender.xlsx'\n",
    "path_medals = '../../data/Olympics/Medals.xlsx'\n",
    "path_teams = '../../data/Olympics/Teams.xlsx'\n",
    "\n",
    "# Load the data into DataFrames\n",
    "# A DataFrame is a table-like data structure. We are creating one for each file.\n",
    "df_athletes = pd.read_excel(path_athletes)\n",
    "df_coaches = pd.read_excel(path_coaches)\n",
    "df_gender = pd.read_excel(path_gender)\n",
    "df_medals = pd.read_excel(path_medals)\n",
    "df_teams = pd.read_excel(path_teams)"
   ]
  },
  {
   "cell_type": "markdown",
   "metadata": {},
   "source": [
    "Let's take a quick look at the first few rows of each DataFrame to understand their structure. We use the `.head()` method for this.\n",
    "\n",
    "#### What is `.head()` and why use it?\n",
    "- **What it is**: A method that returns the first `n` rows of a DataFrame (by default, `n=5`).\n",
    "- **Why we use it**: It's a quick and easy way to get a snapshot of the data without printing the entire (potentially massive) DataFrame. It helps us verify that the data has been loaded correctly and to see the column names and data types."
   ]
  },
  {
   "cell_type": "code",
   "execution_count": 11,
   "metadata": {},
   "outputs": [
    {
     "name": "stdout",
     "output_type": "stream",
     "text": [
      "Athletes Data:\n"
     ]
    },
    {
     "data": {
      "text/html": [
       "<div>\n",
       "<style scoped>\n",
       "    .dataframe tbody tr th:only-of-type {\n",
       "        vertical-align: middle;\n",
       "    }\n",
       "\n",
       "    .dataframe tbody tr th {\n",
       "        vertical-align: top;\n",
       "    }\n",
       "\n",
       "    .dataframe thead th {\n",
       "        text-align: right;\n",
       "    }\n",
       "</style>\n",
       "<table border=\"1\" class=\"dataframe\">\n",
       "  <thead>\n",
       "    <tr style=\"text-align: right;\">\n",
       "      <th></th>\n",
       "      <th>Name</th>\n",
       "      <th>NOC</th>\n",
       "      <th>Discipline</th>\n",
       "    </tr>\n",
       "  </thead>\n",
       "  <tbody>\n",
       "    <tr>\n",
       "      <th>0</th>\n",
       "      <td>AALERUD Katrine</td>\n",
       "      <td>Norway</td>\n",
       "      <td>Cycling Road</td>\n",
       "    </tr>\n",
       "    <tr>\n",
       "      <th>1</th>\n",
       "      <td>ABAD Nestor</td>\n",
       "      <td>Spain</td>\n",
       "      <td>Artistic Gymnastics</td>\n",
       "    </tr>\n",
       "    <tr>\n",
       "      <th>2</th>\n",
       "      <td>ABAGNALE Giovanni</td>\n",
       "      <td>Italy</td>\n",
       "      <td>Rowing</td>\n",
       "    </tr>\n",
       "    <tr>\n",
       "      <th>3</th>\n",
       "      <td>ABALDE Alberto</td>\n",
       "      <td>Spain</td>\n",
       "      <td>Basketball</td>\n",
       "    </tr>\n",
       "    <tr>\n",
       "      <th>4</th>\n",
       "      <td>ABALDE Tamara</td>\n",
       "      <td>Spain</td>\n",
       "      <td>Basketball</td>\n",
       "    </tr>\n",
       "  </tbody>\n",
       "</table>\n",
       "</div>"
      ],
      "text/plain": [
       "                Name     NOC           Discipline\n",
       "0    AALERUD Katrine  Norway         Cycling Road\n",
       "1        ABAD Nestor   Spain  Artistic Gymnastics\n",
       "2  ABAGNALE Giovanni   Italy               Rowing\n",
       "3     ABALDE Alberto   Spain           Basketball\n",
       "4      ABALDE Tamara   Spain           Basketball"
      ]
     },
     "metadata": {},
     "output_type": "display_data"
    },
    {
     "name": "stdout",
     "output_type": "stream",
     "text": [
      "\n",
      "Coaches Data:\n"
     ]
    },
    {
     "data": {
      "text/html": [
       "<div>\n",
       "<style scoped>\n",
       "    .dataframe tbody tr th:only-of-type {\n",
       "        vertical-align: middle;\n",
       "    }\n",
       "\n",
       "    .dataframe tbody tr th {\n",
       "        vertical-align: top;\n",
       "    }\n",
       "\n",
       "    .dataframe thead th {\n",
       "        text-align: right;\n",
       "    }\n",
       "</style>\n",
       "<table border=\"1\" class=\"dataframe\">\n",
       "  <thead>\n",
       "    <tr style=\"text-align: right;\">\n",
       "      <th></th>\n",
       "      <th>Name</th>\n",
       "      <th>NOC</th>\n",
       "      <th>Discipline</th>\n",
       "      <th>Event</th>\n",
       "    </tr>\n",
       "  </thead>\n",
       "  <tbody>\n",
       "    <tr>\n",
       "      <th>0</th>\n",
       "      <td>ABDELMAGID Wael</td>\n",
       "      <td>Egypt</td>\n",
       "      <td>Football</td>\n",
       "      <td>NaN</td>\n",
       "    </tr>\n",
       "    <tr>\n",
       "      <th>1</th>\n",
       "      <td>ABE Junya</td>\n",
       "      <td>Japan</td>\n",
       "      <td>Volleyball</td>\n",
       "      <td>NaN</td>\n",
       "    </tr>\n",
       "    <tr>\n",
       "      <th>2</th>\n",
       "      <td>ABE Katsuhiko</td>\n",
       "      <td>Japan</td>\n",
       "      <td>Basketball</td>\n",
       "      <td>NaN</td>\n",
       "    </tr>\n",
       "    <tr>\n",
       "      <th>3</th>\n",
       "      <td>ADAMA Cherif</td>\n",
       "      <td>Côte d'Ivoire</td>\n",
       "      <td>Football</td>\n",
       "      <td>NaN</td>\n",
       "    </tr>\n",
       "    <tr>\n",
       "      <th>4</th>\n",
       "      <td>AGEBA Yuya</td>\n",
       "      <td>Japan</td>\n",
       "      <td>Volleyball</td>\n",
       "      <td>NaN</td>\n",
       "    </tr>\n",
       "  </tbody>\n",
       "</table>\n",
       "</div>"
      ],
      "text/plain": [
       "              Name            NOC  Discipline Event\n",
       "0  ABDELMAGID Wael          Egypt    Football   NaN\n",
       "1        ABE Junya          Japan  Volleyball   NaN\n",
       "2    ABE Katsuhiko          Japan  Basketball   NaN\n",
       "3     ADAMA Cherif  Côte d'Ivoire    Football   NaN\n",
       "4       AGEBA Yuya          Japan  Volleyball   NaN"
      ]
     },
     "metadata": {},
     "output_type": "display_data"
    },
    {
     "name": "stdout",
     "output_type": "stream",
     "text": [
      "\n",
      "Gender Entries Data:\n"
     ]
    },
    {
     "data": {
      "text/html": [
       "<div>\n",
       "<style scoped>\n",
       "    .dataframe tbody tr th:only-of-type {\n",
       "        vertical-align: middle;\n",
       "    }\n",
       "\n",
       "    .dataframe tbody tr th {\n",
       "        vertical-align: top;\n",
       "    }\n",
       "\n",
       "    .dataframe thead th {\n",
       "        text-align: right;\n",
       "    }\n",
       "</style>\n",
       "<table border=\"1\" class=\"dataframe\">\n",
       "  <thead>\n",
       "    <tr style=\"text-align: right;\">\n",
       "      <th></th>\n",
       "      <th>Discipline</th>\n",
       "      <th>Female</th>\n",
       "      <th>Male</th>\n",
       "      <th>Total</th>\n",
       "    </tr>\n",
       "  </thead>\n",
       "  <tbody>\n",
       "    <tr>\n",
       "      <th>0</th>\n",
       "      <td>3x3 Basketball</td>\n",
       "      <td>32</td>\n",
       "      <td>32</td>\n",
       "      <td>64</td>\n",
       "    </tr>\n",
       "    <tr>\n",
       "      <th>1</th>\n",
       "      <td>Archery</td>\n",
       "      <td>64</td>\n",
       "      <td>64</td>\n",
       "      <td>128</td>\n",
       "    </tr>\n",
       "    <tr>\n",
       "      <th>2</th>\n",
       "      <td>Artistic Gymnastics</td>\n",
       "      <td>98</td>\n",
       "      <td>98</td>\n",
       "      <td>196</td>\n",
       "    </tr>\n",
       "    <tr>\n",
       "      <th>3</th>\n",
       "      <td>Artistic Swimming</td>\n",
       "      <td>105</td>\n",
       "      <td>0</td>\n",
       "      <td>105</td>\n",
       "    </tr>\n",
       "    <tr>\n",
       "      <th>4</th>\n",
       "      <td>Athletics</td>\n",
       "      <td>969</td>\n",
       "      <td>1072</td>\n",
       "      <td>2041</td>\n",
       "    </tr>\n",
       "  </tbody>\n",
       "</table>\n",
       "</div>"
      ],
      "text/plain": [
       "            Discipline  Female  Male  Total\n",
       "0       3x3 Basketball      32    32     64\n",
       "1              Archery      64    64    128\n",
       "2  Artistic Gymnastics      98    98    196\n",
       "3    Artistic Swimming     105     0    105\n",
       "4            Athletics     969  1072   2041"
      ]
     },
     "metadata": {},
     "output_type": "display_data"
    },
    {
     "name": "stdout",
     "output_type": "stream",
     "text": [
      "\n",
      "Medals Data:\n"
     ]
    },
    {
     "data": {
      "text/html": [
       "<div>\n",
       "<style scoped>\n",
       "    .dataframe tbody tr th:only-of-type {\n",
       "        vertical-align: middle;\n",
       "    }\n",
       "\n",
       "    .dataframe tbody tr th {\n",
       "        vertical-align: top;\n",
       "    }\n",
       "\n",
       "    .dataframe thead th {\n",
       "        text-align: right;\n",
       "    }\n",
       "</style>\n",
       "<table border=\"1\" class=\"dataframe\">\n",
       "  <thead>\n",
       "    <tr style=\"text-align: right;\">\n",
       "      <th></th>\n",
       "      <th>Rank</th>\n",
       "      <th>Team/NOC</th>\n",
       "      <th>Gold</th>\n",
       "      <th>Silver</th>\n",
       "      <th>Bronze</th>\n",
       "      <th>Total</th>\n",
       "      <th>Rank by Total</th>\n",
       "    </tr>\n",
       "  </thead>\n",
       "  <tbody>\n",
       "    <tr>\n",
       "      <th>0</th>\n",
       "      <td>1</td>\n",
       "      <td>United States of America</td>\n",
       "      <td>39</td>\n",
       "      <td>41</td>\n",
       "      <td>33</td>\n",
       "      <td>113</td>\n",
       "      <td>1</td>\n",
       "    </tr>\n",
       "    <tr>\n",
       "      <th>1</th>\n",
       "      <td>2</td>\n",
       "      <td>People's Republic of China</td>\n",
       "      <td>38</td>\n",
       "      <td>32</td>\n",
       "      <td>18</td>\n",
       "      <td>88</td>\n",
       "      <td>2</td>\n",
       "    </tr>\n",
       "    <tr>\n",
       "      <th>2</th>\n",
       "      <td>3</td>\n",
       "      <td>Japan</td>\n",
       "      <td>27</td>\n",
       "      <td>14</td>\n",
       "      <td>17</td>\n",
       "      <td>58</td>\n",
       "      <td>5</td>\n",
       "    </tr>\n",
       "    <tr>\n",
       "      <th>3</th>\n",
       "      <td>4</td>\n",
       "      <td>Great Britain</td>\n",
       "      <td>22</td>\n",
       "      <td>21</td>\n",
       "      <td>22</td>\n",
       "      <td>65</td>\n",
       "      <td>4</td>\n",
       "    </tr>\n",
       "    <tr>\n",
       "      <th>4</th>\n",
       "      <td>5</td>\n",
       "      <td>ROC</td>\n",
       "      <td>20</td>\n",
       "      <td>28</td>\n",
       "      <td>23</td>\n",
       "      <td>71</td>\n",
       "      <td>3</td>\n",
       "    </tr>\n",
       "  </tbody>\n",
       "</table>\n",
       "</div>"
      ],
      "text/plain": [
       "   Rank                    Team/NOC  Gold  Silver  Bronze  Total  \\\n",
       "0     1    United States of America    39      41      33    113   \n",
       "1     2  People's Republic of China    38      32      18     88   \n",
       "2     3                       Japan    27      14      17     58   \n",
       "3     4               Great Britain    22      21      22     65   \n",
       "4     5                         ROC    20      28      23     71   \n",
       "\n",
       "   Rank by Total  \n",
       "0              1  \n",
       "1              2  \n",
       "2              5  \n",
       "3              4  \n",
       "4              3  "
      ]
     },
     "metadata": {},
     "output_type": "display_data"
    },
    {
     "name": "stdout",
     "output_type": "stream",
     "text": [
      "\n",
      "Teams Data:\n"
     ]
    },
    {
     "data": {
      "text/html": [
       "<div>\n",
       "<style scoped>\n",
       "    .dataframe tbody tr th:only-of-type {\n",
       "        vertical-align: middle;\n",
       "    }\n",
       "\n",
       "    .dataframe tbody tr th {\n",
       "        vertical-align: top;\n",
       "    }\n",
       "\n",
       "    .dataframe thead th {\n",
       "        text-align: right;\n",
       "    }\n",
       "</style>\n",
       "<table border=\"1\" class=\"dataframe\">\n",
       "  <thead>\n",
       "    <tr style=\"text-align: right;\">\n",
       "      <th></th>\n",
       "      <th>Name</th>\n",
       "      <th>Discipline</th>\n",
       "      <th>NOC</th>\n",
       "      <th>Event</th>\n",
       "    </tr>\n",
       "  </thead>\n",
       "  <tbody>\n",
       "    <tr>\n",
       "      <th>0</th>\n",
       "      <td>Belgium</td>\n",
       "      <td>3x3 Basketball</td>\n",
       "      <td>Belgium</td>\n",
       "      <td>Men</td>\n",
       "    </tr>\n",
       "    <tr>\n",
       "      <th>1</th>\n",
       "      <td>China</td>\n",
       "      <td>3x3 Basketball</td>\n",
       "      <td>People's Republic of China</td>\n",
       "      <td>Men</td>\n",
       "    </tr>\n",
       "    <tr>\n",
       "      <th>2</th>\n",
       "      <td>China</td>\n",
       "      <td>3x3 Basketball</td>\n",
       "      <td>People's Republic of China</td>\n",
       "      <td>Women</td>\n",
       "    </tr>\n",
       "    <tr>\n",
       "      <th>3</th>\n",
       "      <td>France</td>\n",
       "      <td>3x3 Basketball</td>\n",
       "      <td>France</td>\n",
       "      <td>Women</td>\n",
       "    </tr>\n",
       "    <tr>\n",
       "      <th>4</th>\n",
       "      <td>Italy</td>\n",
       "      <td>3x3 Basketball</td>\n",
       "      <td>Italy</td>\n",
       "      <td>Women</td>\n",
       "    </tr>\n",
       "  </tbody>\n",
       "</table>\n",
       "</div>"
      ],
      "text/plain": [
       "      Name      Discipline                         NOC  Event\n",
       "0  Belgium  3x3 Basketball                     Belgium    Men\n",
       "1    China  3x3 Basketball  People's Republic of China    Men\n",
       "2    China  3x3 Basketball  People's Republic of China  Women\n",
       "3   France  3x3 Basketball                      France  Women\n",
       "4    Italy  3x3 Basketball                       Italy  Women"
      ]
     },
     "metadata": {},
     "output_type": "display_data"
    }
   ],
   "source": [
    "print(\"Athletes Data:\")\n",
    "display(df_athletes.head())\n",
    "\n",
    "print(\"\\nCoaches Data:\")\n",
    "display(df_coaches.head())\n",
    "\n",
    "print(\"\\nGender Entries Data:\")\n",
    "display(df_gender.head())\n",
    "\n",
    "print(\"\\nMedals Data:\")\n",
    "display(df_medals.head())\n",
    "\n",
    "print(\"\\nTeams Data:\")\n",
    "display(df_teams.head())"
   ]
  },
  {
   "cell_type": "markdown",
   "metadata": {},
   "source": [
    "--- \n",
    "\n",
    "## 💡 Generating 10 Insights from the Data\n",
    "\n",
    "Now, let's dive into the data and answer some questions."
   ]
  },
  {
   "cell_type": "markdown",
   "metadata": {},
   "source": [
    "### Insight 1: Medal Distribution by Country\n",
    "\n",
    "**❓ Question:** Which countries won the most gold medals, and which countries won the most medals overall?"
   ]
  },
  {
   "cell_type": "code",
   "execution_count": null,
   "metadata": {},
   "outputs": [],
   "source": [
    "# Why are we using df_medals?\n",
    "# This DataFrame directly contains the medal counts (Gold, Silver, Bronze, Total) for each country (Team/NOC).\n",
    "\n",
    "# What is .sort_values()? Why not something else?\n",
    "# - What it is: A method to sort a DataFrame by one or more columns.\n",
    "# - Why we use it: To rank the countries from highest to lowest based on their medal count.\n",
    "# - Parameters:\n",
    "#   - 'by': The column name(s) to sort by.\n",
    "#   - 'ascending=False': We set this to False to sort in descending order (most medals at the top).\n",
    "# - Other ways: We could sort and then select the top, but sort_values is the most direct way to achieve this ranking.\n",
    "\n",
    "top_10_gold = df_medals.sort_values(by='Gold', ascending=False).head(10)\n",
    "top_10_total = df_medals.sort_values(by='Total', ascending=False).head(10)\n",
    "\n",
    "print(\"Top 10 Countries by Gold Medals:\")\n",
    "# What is ['Team/NOC', 'Gold']?\n",
    "# This is called column indexing. We are selecting and displaying only the 'Team/NOC' and 'Gold' columns from our sorted DataFrame to make the output cleaner and more focused on our question.\n",
    "display(top_10_gold[['Team/NOC', 'Gold']])\n",
    "\n",
    "print(\"\\nTop 10 Countries by Total Medals:\")\n",
    "display(top_10_total[['Team/NOC', 'Total']])\n"
   ]
  },
  {
   "cell_type": "markdown",
   "metadata": {},
   "source": [
    "**✍️ Explanation of Insight 1:**\n",
    "\n",
    "The United States of America dominated the medal count, securing the top spot in both gold medals (39) and total medals (113). The People's Republic of China was a close second in gold medals (38) and also second in the total medal count (88). Interestingly, while Japan ranked 3rd in gold medals, Great Britain had a higher total medal count, showcasing a different strategy or strength in depth across various sports."
   ]
  },
  {
   "cell_type": "markdown",
   "metadata": {},
   "source": [
    "### Insight 2: Gender Participation Across Disciplines\n",
    "\n",
    "**❓ Question:** Which disciplines have the highest number of female and male participants respectively?"
   ]
  },
  {
   "cell_type": "code",
   "execution_count": null,
   "metadata": {},
   "outputs": [],
   "source": [
    "# Why df_gender?\n",
    "# This DataFrame is specifically designed to show the number of Female, Male, and Total entries for each Discipline.\n",
    "\n",
    "top_female_sports = df_gender.sort_values(by='Female', ascending=False).head(5)\n",
    "top_male_sports = df_gender.sort_values(by='Male', ascending=False).head(5)\n",
    "\n",
    "print(\"Top 5 Disciplines by Female Participation:\")\n",
    "display(top_female_sports[['Discipline', 'Female']])\n",
    "\n",
    "print(\"\\nTop 5 Disciplines by Male Participation:\")\n",
    "display(top_male_sports[['Discipline', 'Male']])"
   ]
  },
  {
   "cell_type": "markdown",
   "metadata": {},
   "source": [
    "**✍️ Explanation of Insight 2:**\n",
    "\n",
    "Athletics and Swimming are the disciplines with the highest participation for both female and male athletes, indicating their large scale and number of events. Football also shows high participation, especially for males. This highlights the most popular and largest sports at the Olympics in terms of athlete numbers."
   ]
  },
  {
   "cell_type": "markdown",
   "metadata": {},
   "source": [
    "### Insight 3: Disciplines with the Biggest Gender Gap\n",
    "\n",
    "**❓ Question:** Which disciplines are the most male-dominated and which are the most female-dominated?"
   ]
  },
  {
   "cell_type": "code",
   "execution_count": null,
   "metadata": {},
   "outputs": [],
   "source": [
    "# Here, we perform a calculation to create a new column. This is a common and powerful feature of Pandas.\n",
    "\n",
    "# What is df_gender.copy()?\n",
    "# It creates a new, independent copy of the DataFrame. We do this to avoid a 'SettingWithCopyWarning'. It's good practice to work on a copy when you are modifying a DataFrame that you might need in its original state later.\n",
    "gender_gap_df = df_gender.copy()\n",
    "\n",
    "# What is this calculation doing?\n",
    "# We are calculating the percentage of female participants for each discipline. This normalizes the data, allowing us to compare disciplines of different sizes fairly.\n",
    "# The formula is: (Number of Females / Total Participants) * 100\n",
    "gender_gap_df['Female_Percentage'] = (gender_gap_df['Female'] / gender_gap_df['Total']) * 100\n",
    "\n",
    "most_female_dominated = gender_gap_df.sort_values(by='Female_Percentage', ascending=False).head(5)\n",
    "most_male_dominated = gender_gap_df.sort_values(by='Female_Percentage', ascending=True).head(5)\n",
    "\n",
    "print(\"Top 5 Most Female-Dominated Disciplines (%):\")\n",
    "display(most_female_dominated[['Discipline', 'Female_Percentage']])\n",
    "\n",
    "print(\"\\nTop 5 Most Male-Dominated Disciplines (%):\")\n",
    "display(most_male_dominated[['Discipline', 'Female_Percentage']])"
   ]
  },
  {
   "cell_type": "markdown",
   "metadata": {},
   "source": [
    "**✍️ Explanation of Insight 3:**\n",
    "\n",
    "Artistic Swimming and Rhythmic Gymnastics are exclusively female sports at the Olympics, with 100% female participation. On the other end of the spectrum, disciplines like Wrestling and Boxing have a significantly lower percentage of female athletes, highlighting a substantial gender gap in these particular sports."
   ]
  },
  {
   "cell_type": "markdown",
   "metadata": {},
   "source": [
    "### Insight 4: Most Represented Countries by Number of Athletes\n",
    "\n",
    "**❓ Question:** Which countries sent the most athletes to the Olympics?"
   ]
  },
  {
   "cell_type": "code",
   "execution_count": null,
   "metadata": {},
   "outputs": [],
   "source": [
    "# Why df_athletes?\n",
    "# This DataFrame contains a list of all individual athletes and their country (NOC).\n",
    "\n",
    "# What is .value_counts()? Why not groupby()?\n",
    "# - What it is: A method that returns a Series containing counts of unique values. It's a very convenient shortcut.\n",
    "# - Why we use it: We want to count how many times each country ('NOC') appears in the athlete list. `value_counts()` does this in one simple step.\n",
    "# - Other ways: We could have used `df_athletes.groupby('NOC').size()`. This would produce the same result but is slightly more verbose. For a simple count of one column, `value_counts()` is more idiomatic and readable.\n",
    "\n",
    "athlete_counts = df_athletes['NOC'].value_counts().head(10)\n",
    "\n",
    "print(\"Top 10 Countries by Number of Athletes:\")\n",
    "print(athlete_counts)"
   ]
  },
  {
   "cell_type": "markdown",
   "metadata": {},
   "source": [
    "**✍️ Explanation of Insight 4:**\n",
    "\n",
    "The United States and Japan (the host country) had the largest delegations of athletes, with over 600 participants each. This is expected, as larger countries and the host nation typically field athletes in a wider range of sports. There is a strong correlation between the number of athletes a country sends and its potential to win medals."
   ]
  },
  {
   "cell_type": "markdown",
   "metadata": {},
   "source": [
    "### Insight 5: Most Common Disciplines for Coaches\n",
    "\n",
    "**❓ Question:** Which disciplines require the most coaches?"
   ]
  },
  {
   "cell_type": "code",
   "execution_count": null,
   "metadata": {},
   "outputs": [],
   "source": [
    "# Why df_coaches?\n",
    "# This DataFrame lists all the coaches and their respective disciplines.\n",
    "\n",
    "# Here we use .value_counts() again, demonstrating its utility for quick frequency counts.\n",
    "coach_counts = df_coaches['Discipline'].value_counts().head(10)\n",
    "\n",
    "print(\"Top 10 Disciplines by Number of Coaches:\")\n",
    "print(coach_counts)"
   ]
  },
  {
   "cell_type": "markdown",
   "metadata": {},
   "source": [
    "**✍️ Explanation of Insight 5:**\n",
    "\n",
    "Swimming, Athletics, and Basketball have the highest number of coaches. This is likely due to these being large team sports or sports with many individual events and athletes, thus requiring a larger support and coaching staff."
   ]
  },
  {
   "cell_type": "markdown",
   "metadata": {},
   "source": [
    "### Insight 6: Merging Data to Find Coach-to-Athlete Ratios\n",
    "\n",
    "**❓ Question:** Which countries have the best coach-to-athlete ratio?\n",
    "\n",
    "*(This is a more advanced insight that requires combining two different datasets)*"
   ]
  },
  {
   "cell_type": "code",
   "execution_count": null,
   "metadata": {},
   "outputs": [],
   "source": [
    "# First, we need to count athletes per country (NOC).\n",
    "# What is .groupby() and .size()?\n",
    "# - What it is: groupby() is a powerful method for splitting a DataFrame into groups based on some criteria.\n",
    "# - Why we use it: We want to group all athletes by their country ('NOC').\n",
    "# - .size() then counts the number of rows (athletes) in each of these groups.\n",
    "# - .reset_index(name='Num_Athletes') converts the grouped output back into a DataFrame and names the new count column 'Num_Athletes'.\n",
    "athletes_per_country = df_athletes.groupby('NOC').size().reset_index(name='Num_Athletes')\n",
    "\n",
    "# Second, count coaches per country (NOC).\n",
    "coaches_per_country = df_coaches.groupby('NOC').size().reset_index(name='Num_Coaches')\n",
    "\n",
    "# What is pd.merge()? Why not just combine them?\n",
    "# - What it is: The primary function for combining DataFrames, similar to SQL JOINs.\n",
    "# - Why we use it: We have two separate tables, one with athlete counts and one with coach counts, linked by the 'NOC' column. Merge allows us to combine them intelligently based on this common column.\n",
    "# - Parameters:\n",
    "#   - left, right: The two DataFrames to merge.\n",
    "#   - on='NOC': The column to join on.\n",
    "#   - how='outer': This is the join type. 'outer' means we keep all countries from both datasets. If a country has coaches but no athletes (or vice-versa), it will still be included, with 'NaN' (Not a Number) in the missing column.\n",
    "merged_df = pd.merge(athletes_per_country, coaches_per_country, on='NOC', how='outer')\n",
    "\n",
    "# What is .fillna(0)?\n",
    "# - What it is: A method to fill missing (NaN) values.\n",
    "# - Why we use it: The outer merge created NaNs for countries that had athletes but no coaches, or vice versa. For our calculation, a missing count should be treated as zero.\n",
    "merged_df = merged_df.fillna(0)\n",
    "\n",
    "# Calculate the ratio\n",
    "merged_df['Athlete_per_Coach'] = merged_df['Num_Athletes'] / merged_df['Num_Coaches']\n",
    "\n",
    "# Let's filter for countries with a significant number of coaches to get meaningful ratios\n",
    "meaningful_ratios = merged_df[merged_df['Num_Coaches'] > 10].sort_values(by='Athlete_per_Coach', ascending=True)\n",
    "\n",
    "print(\"Countries with the Best Athlete-to-Coach Ratios (at least 10 coaches):\")\n",
    "display(meaningful_ratios.head(10))"
   ]
  },
  {
   "cell_type": "markdown",
   "metadata": {},
   "source": [
    "**✍️ Explanation of Insight 6:**\n",
    "\n",
    "By merging the athlete and coach datasets, we can compute an athlete-per-coach ratio. A lower number suggests more coaching support per athlete. Countries like Great Britain, New Zealand, and the Netherlands appear to have a very low ratio, indicating a strong investment in coaching staff relative to their number of athletes. This could be a factor in their overall success."
   ]
  },
  {
   "cell_type": "markdown",
   "metadata": {},
   "source": [
    "### Insight 7: Medal Efficiency\n",
    "\n",
    "**❓ Question:** Which countries were most efficient at winning medals, considering the size of their delegation?"
   ]
  },
  {
   "cell_type": "code",
   "execution_count": null,
   "metadata": {},
   "outputs": [],
   "source": [
    "# We need athlete counts and medal counts. We already have athlete counts per country.\n",
    "# Let's get total medals per country.\n",
    "medals_per_country = df_medals[['Team/NOC', 'Total']]\n",
    "\n",
    "# We need to merge again. This time athlete counts with medal counts.\n",
    "# Let's rename 'Team/NOC' in the medals table to 'NOC' to make the merge straightforward.\n",
    "# What is .rename()? \n",
    "# - What it is: A method to alter axis labels.\n",
    "# - Why we use it: The country column is named 'NOC' in one DataFrame and 'Team/NOC' in another. Renaming makes them consistent for a clean merge.\n",
    "medals_per_country = medals_per_country.rename(columns={'Team/NOC': 'NOC'})\n",
    "\n",
    "# We use an 'inner' merge this time. Why?\n",
    "# 'inner' merge only keeps rows where the key ('NOC') exists in BOTH DataFrames. We only care about countries that sent athletes AND won at least one medal.\n",
    "efficiency_df = pd.merge(athletes_per_country, medals_per_country, on='NOC', how='inner')\n",
    "\n",
    "# Calculate efficiency\n",
    "efficiency_df['Medals_per_Athlete'] = efficiency_df['Total'] / efficiency_df['Num_Athletes']\n",
    "\n",
    "# Let's filter for countries with at least 50 athletes to avoid skewed results from small teams.\n",
    "# What is boolean indexing (e.g., efficiency_df['Num_Athletes'] > 50)?\n",
    "# - What it is: We are creating a boolean Series (True/False) based on a condition.\n",
    "# - Why we use it: When we pass this Series back to the DataFrame in square brackets, it filters the DataFrame, keeping only the rows where the condition was True. It's the standard way to filter data in Pandas.\n",
    "top_efficiency = efficiency_df[efficiency_df['Num_Athletes'] > 50].sort_values(by='Medals_per_Athlete', ascending=False)\n",
    "\n",
    "print(\"Medal Efficiency (Countries with > 50 Athletes):\")\n",
    "display(top_efficiency.head(10))"
   ]
  },
  {
   "cell_type": "markdown",
   "metadata": {},
   "source": [
    "**✍️ Explanation of Insight 7:**\n",
    "\n",
    "This insight reveals which countries punch above their weight. While the USA and China win the most medals, countries like the People's Republic of China and the ROC (Russian Olympic Committee) are incredibly efficient, winning a high number of medals relative to the number of athletes they send. This suggests a highly effective and targeted athletic program."
   ]
  },
  {
   "cell_type": "markdown",
   "metadata": {},
   "source": [
    "### Insight 8: Distribution of Medals Across Disciplines\n",
    "\n",
    "**❓ Question:** In which disciplines were the most medals awarded?"
   ]
  },
  {
   "cell_type": "code",
   "execution_count": null,
   "metadata": {},
   "outputs": [],
   "source": [
    "# This information isn't directly available. We need to infer it.\n",
    "# The df_gender DataFrame lists the total number of participants in each discipline.\n",
    "# Sports with more events (and thus more medals) will naturally have more participants.\n",
    "# So, we can use the 'Total' column in df_gender as a proxy for the number of medals available.\n",
    "\n",
    "medals_by_discipline = df_gender.sort_values(by='Total', ascending=False)\n",
    "\n",
    "print(\"Disciplines with the Most Participants (Proxy for Most Medals):\")\n",
    "display(medals_by_discipline[['Discipline', 'Total']].head(10))"
   ]
  },
  {
   "cell_type": "markdown",
   "metadata": {},
   "source": [
    "**✍️ Explanation of Insight 8:**\n",
    "\n",
    "Athletics and Swimming are by far the disciplines with the most participants. This is because they host a vast number of individual and team events (e.g., 100m, 200m, relays, various swimming strokes and distances). Consequently, these two sports offer the largest number of medals, making them crucial for any country aiming for the top of the medal table."
   ]
  },
  {
   "cell_type": "markdown",
   "metadata": {},
   "source": [
    "### Insight 9: Team vs. Individual Sports Participation\n",
    "\n",
    "**❓ Question:** How many countries participate in team events vs. just sending individual athletes?\n",
    "\n",
    "*(This requires looking at the `df_teams` dataset)*"
   ]
  },
  {
   "cell_type": "code",
   "execution_count": null,
   "metadata": {},
   "outputs": [],
   "source": [
    "# What is .nunique()?\n",
    "# - What it is: A method that returns the number of unique (distinct) values in a Series.\n",
    "# - Why we use it: We want to count how many unique countries are in the teams list and the athletes list.\n",
    "\n",
    "total_countries_all_athletes = df_athletes['NOC'].nunique()\n",
    "countries_in_teams = df_teams['NOC'].nunique()\n",
    "\n",
    "print(f\"Total unique countries participating: {total_countries_all_athletes}\")\n",
    "print(f\"Number of countries participating in team events: {countries_in_teams}\")\n",
    "print(f\"Percentage of countries in team events: {100 * countries_in_teams / total_countries_all_athletes:.2f}%\")"
   ]
  },
  {
   "cell_type": "markdown",
   "metadata": {},
   "source": [
    "**✍️ Explanation of Insight 9:**\n",
    "\n",
    "Out of all the countries that sent athletes to the Olympics, a smaller subset participated in team events. This shows that qualifying and funding a whole team for sports like Basketball, Football, or Volleyball is a significant challenge that fewer national Olympic committees can meet compared to sending individual athletes."
   ]
  },
  {
   "cell_type": "markdown",
   "metadata": {},
   "source": [
    "### Insight 10: Visualizing Medal Distribution\n",
    "\n",
    "**❓ Question:** Can we create a more intuitive view of the top 10 countries' medal breakdown?\n",
    "\n",
    "*(This is a bonus insight using a visualization library, Matplotlib, which works great with Pandas)*"
   ]
  },
  {
   "cell_type": "code",
   "execution_count": null,
   "metadata": {},
   "outputs": [],
   "source": [
    "# First, we need to import the plotting library.\n",
    "# Matplotlib is the most fundamental plotting library in Python. Pyplot is its main plotting interface.\n",
    "import matplotlib.pyplot as plt\n",
    "\n",
    "# Let's take the top 10 countries by total medals from Insight 1\n",
    "top_10_medals = df_medals.sort_values(by='Total', ascending=False).head(10)\n",
    "\n",
    "# What is .set_index()?\n",
    "# - What it is: A method to set a DataFrame's index using one or more of its columns.\n",
    "# - Why we use it: For plotting, it's often useful to have the labels (country names) as the index, which will then be used as the x-axis labels on our bar chart.\n",
    "plot_data = top_10_medals.set_index('Team/NOC')\n",
    "\n",
    "# What is .plot(kind='bar')?\n",
    "# - What it is: Pandas DataFrames have a built-in .plot() method that acts as a wrapper around Matplotlib.\n",
    "# - Why we use it: It provides a quick and convenient way to create plots directly from our data.\n",
    "# - Parameters:\n",
    "#   - kind='bar': Specifies that we want a bar chart.\n",
    "#   - stacked=True: Stacks the bars for different columns (Gold, Silver, Bronze) on top of each other.\n",
    "#   - figsize=(12, 7): Sets the size of the figure for better readability.\n",
    "plot_data[['Gold', 'Silver', 'Bronze']].plot(kind='bar', stacked=True, figsize=(12, 7), \n",
    "                                             color=['gold', 'silver', '#cd7f32'])\n",
    "\n",
    "# Add labels and title for clarity\n",
    "plt.title('Medal Distribution for Top 10 Countries')\n",
    "plt.ylabel('Number of Medals')\n",
    "plt.xlabel('Country')\n",
    "plt.xticks(rotation=45) # Rotate country names for better visibility\n",
    "plt.legend(title='Medal Type')\n",
    "\n",
    "# What is plt.show()?\n",
    "# It displays the plot that we have constructed.\n",
    "plt.show()"
   ]
  },
  {
   "cell_type": "markdown",
   "metadata": {},
   "source": [
    "**✍️ Explanation of Insight 10:**\n",
    "\n",
    "A stacked bar chart provides a much richer story than a simple table. We can instantly see not only the total medal count for each of the top 10 countries but also the composition of those medals. For example, we can visually confirm the United States' dominance in all three medal categories and see how Great Britain's high silver and bronze count contributes to its high total rank."
   ]
  },
  {
   "cell_type": "markdown",
   "metadata": {},
   "source": [
    "## Conclusion and Learning Summary\n",
    "\n",
    "Congratulations on completing this assignment! You've gone from loading raw data to generating and visualizing complex insights. \n",
    "\n",
    "Along the way, we've learned and applied several core Pandas concepts:\n",
    "\n",
    "- **Data Loading**: Using `pd.read_excel()` to bring data into a **DataFrame**.\n",
    "- **Data Inspection**: Using `.head()` to quickly view our data.\n",
    "- **Sorting and Ranking**: Using `.sort_values()` to find top performers.\n",
    "- **Column Selection**: Selecting specific columns using `[['col1', 'col2']]` to focus our analysis.\n",
    "- **Frequency Counting**: Using `.value_counts()` as a powerful shortcut for counting unique items.\n",
    "- **Creating New Data**: Calculating new columns based on existing ones (e.g., `Female_Percentage`).\n",
    "- **Grouping and Aggregating**: Using `.groupby()` to group data by category and perform calculations like `.size()`.\n",
    "- **Merging DataFrames**: Using `pd.merge()` to combine different datasets based on a common key, the cornerstone of relational data analysis.\n",
    "- **Handling Missing Data**: Using `.fillna()` to clean up our data after a merge.\n",
    "- **Filtering**: Using boolean indexing (e.g., `df[df['column'] > 50]`) to isolate specific rows.\n",
    "- **Plotting**: Using the integrated `.plot()` method and the `matplotlib` library to visualize our findings.\n",
    "\n",
    "Pandas is a deep and powerful library, and this is just the beginning. By understanding these fundamental operations, you now have the foundational skills to tackle a wide variety of data analysis tasks."
   ]
  }
 ],
 "metadata": {
  "kernelspec": {
   "display_name": "Python 3 (ipykernel)",
   "language": "python",
   "name": "python3"
  },
  "language_info": {
   "codemirror_mode": {
    "name": "ipython",
    "version": 3
   },
   "file_extension": ".py",
   "mimetype": "text/x-python",
   "name": "python",
   "nbconvert_exporter": "python",
   "pygments_lexer": "ipython3",
   "version": "3.10.18"
  }
 },
 "nbformat": 4,
 "nbformat_minor": 4
}
